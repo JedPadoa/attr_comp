{
 "cells": [
  {
   "cell_type": "code",
   "execution_count": null,
   "metadata": {},
   "outputs": [],
   "source": [
    "import os\n",
    "import pickle\n",
    "import numpy as np\n",
    "import torch\n",
    "import librosa\n",
    "import re\n",
    "import matplotlib.pyplot as plt\n",
    "from regCAV_nc import RegCAV\n",
    "from fs_lmdb import LMDBFootstepDataset"
   ]
  },
  {
   "cell_type": "code",
   "execution_count": null,
   "metadata": {},
   "outputs": [],
   "source": [
    "db_path = 'footsteps_full-hfclap'\n",
    "regCAV = RegCAV()"
   ]
  },
  {
   "cell_type": "code",
   "execution_count": null,
   "metadata": {},
   "outputs": [],
   "source": [
    "##########train on grassiness\n",
    "embeddings, grassiness = trainer.load_continuous_data_from_lmdb(db_path, \"grass\")\n",
    "regCAV.train_rcv(embeddings, grassiness)\n",
    "regCAV.save_rcv(\"RCVs/grass_rcv.pkl\")"
   ]
  },
  {
   "cell_type": "code",
   "execution_count": null,
   "metadata": {},
   "outputs": [],
   "source": [
    "##########train on woodiness\n",
    "embeddings, woodiness = trainer.load_continuous_data_from_lmdb(db_path, \"wood\")\n",
    "regCAV.train_rcv(embeddings, woodiness)\n",
    "regCAV.save_rcv(\"RCVs/wood_rcv.pkl\")"
   ]
  },
  {
   "cell_type": "code",
   "execution_count": null,
   "metadata": {},
   "outputs": [],
   "source": [
    "##########train on speed\n",
    "embeddings, speed = trainer.load_continuous_data_from_lmdb(db_path, \"speed\")\n",
    "regCAV.train_rcv(embeddings, speed)\n",
    "regCAV.save_rcv(\"RCVs/speed_rcv.pkl\")"
   ]
  },
  {
   "cell_type": "code",
   "execution_count": null,
   "metadata": {},
   "outputs": [],
   "source": [
    "##########train on concrete\n",
    "embeddings, concrete = trainer.load_continuous_data_from_lmdb(db_path, \"concrete\")\n",
    "regCAV.train_rcv(embeddings, concrete)\n",
    "regCAV.save_rcv(\"RCVsregCAVte_rcv.pkl\")"
   ]
  }
 ],
 "metadata": {
  "kernelspec": {
   "display_name": "attr_comp",
   "language": "python",
   "name": "python3"
  },
  "language_info": {
   "codemirror_mode": {
    "name": "ipython",
    "version": 3
   },
   "file_extension": ".py",
   "mimetype": "text/x-python",
   "name": "python",
   "nbconvert_exporter": "python",
   "pygments_lexer": "ipython3",
   "version": "3.10.18"
  }
 },
 "nbformat": 4,
 "nbformat_minor": 2
}
